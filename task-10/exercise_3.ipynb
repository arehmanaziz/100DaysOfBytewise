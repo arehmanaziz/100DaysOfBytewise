{
 "cells": [
  {
   "cell_type": "markdown",
   "metadata": {},
   "source": [
    "# 3. Scaling Features in the Wine Quality Dataset"
   ]
  },
  {
   "cell_type": "markdown",
   "metadata": {},
   "source": [
    "Importing the libraries"
   ]
  },
  {
   "cell_type": "code",
   "execution_count": 12,
   "metadata": {},
   "outputs": [],
   "source": [
    "import pandas as pd\n",
    "from sklearn.preprocessing import MinMaxScaler, StandardScaler\n",
    "import matplotlib.pyplot as plt"
   ]
  },
  {
   "cell_type": "markdown",
   "metadata": {},
   "source": [
    "Importing the datasets"
   ]
  },
  {
   "cell_type": "code",
   "execution_count": 13,
   "metadata": {},
   "outputs": [],
   "source": [
    "wine_df = pd.read_csv('./datasets/wine_quality.csv')"
   ]
  },
  {
   "cell_type": "code",
   "execution_count": 14,
   "metadata": {},
   "outputs": [
    {
     "data": {
      "text/html": [
       "<div>\n",
       "<style scoped>\n",
       "    .dataframe tbody tr th:only-of-type {\n",
       "        vertical-align: middle;\n",
       "    }\n",
       "\n",
       "    .dataframe tbody tr th {\n",
       "        vertical-align: top;\n",
       "    }\n",
       "\n",
       "    .dataframe thead th {\n",
       "        text-align: right;\n",
       "    }\n",
       "</style>\n",
       "<table border=\"1\" class=\"dataframe\">\n",
       "  <thead>\n",
       "    <tr style=\"text-align: right;\">\n",
       "      <th></th>\n",
       "      <th>fixed acidity</th>\n",
       "      <th>volatile acidity</th>\n",
       "      <th>citric acid</th>\n",
       "      <th>residual sugar</th>\n",
       "      <th>chlorides</th>\n",
       "      <th>free sulfur dioxide</th>\n",
       "      <th>total sulfur dioxide</th>\n",
       "      <th>density</th>\n",
       "      <th>pH</th>\n",
       "      <th>sulphates</th>\n",
       "      <th>alcohol</th>\n",
       "      <th>quality</th>\n",
       "    </tr>\n",
       "  </thead>\n",
       "  <tbody>\n",
       "    <tr>\n",
       "      <th>0</th>\n",
       "      <td>7.4</td>\n",
       "      <td>0.70</td>\n",
       "      <td>0.00</td>\n",
       "      <td>1.9</td>\n",
       "      <td>0.076</td>\n",
       "      <td>11.0</td>\n",
       "      <td>34.0</td>\n",
       "      <td>0.9978</td>\n",
       "      <td>3.51</td>\n",
       "      <td>0.56</td>\n",
       "      <td>9.4</td>\n",
       "      <td>5</td>\n",
       "    </tr>\n",
       "    <tr>\n",
       "      <th>1</th>\n",
       "      <td>7.8</td>\n",
       "      <td>0.88</td>\n",
       "      <td>0.00</td>\n",
       "      <td>2.6</td>\n",
       "      <td>0.098</td>\n",
       "      <td>25.0</td>\n",
       "      <td>67.0</td>\n",
       "      <td>0.9968</td>\n",
       "      <td>3.20</td>\n",
       "      <td>0.68</td>\n",
       "      <td>9.8</td>\n",
       "      <td>5</td>\n",
       "    </tr>\n",
       "    <tr>\n",
       "      <th>2</th>\n",
       "      <td>7.8</td>\n",
       "      <td>0.76</td>\n",
       "      <td>0.04</td>\n",
       "      <td>2.3</td>\n",
       "      <td>0.092</td>\n",
       "      <td>15.0</td>\n",
       "      <td>54.0</td>\n",
       "      <td>0.9970</td>\n",
       "      <td>3.26</td>\n",
       "      <td>0.65</td>\n",
       "      <td>9.8</td>\n",
       "      <td>5</td>\n",
       "    </tr>\n",
       "    <tr>\n",
       "      <th>3</th>\n",
       "      <td>11.2</td>\n",
       "      <td>0.28</td>\n",
       "      <td>0.56</td>\n",
       "      <td>1.9</td>\n",
       "      <td>0.075</td>\n",
       "      <td>17.0</td>\n",
       "      <td>60.0</td>\n",
       "      <td>0.9980</td>\n",
       "      <td>3.16</td>\n",
       "      <td>0.58</td>\n",
       "      <td>9.8</td>\n",
       "      <td>6</td>\n",
       "    </tr>\n",
       "    <tr>\n",
       "      <th>4</th>\n",
       "      <td>7.4</td>\n",
       "      <td>0.70</td>\n",
       "      <td>0.00</td>\n",
       "      <td>1.9</td>\n",
       "      <td>0.076</td>\n",
       "      <td>11.0</td>\n",
       "      <td>34.0</td>\n",
       "      <td>0.9978</td>\n",
       "      <td>3.51</td>\n",
       "      <td>0.56</td>\n",
       "      <td>9.4</td>\n",
       "      <td>5</td>\n",
       "    </tr>\n",
       "  </tbody>\n",
       "</table>\n",
       "</div>"
      ],
      "text/plain": [
       "   fixed acidity  volatile acidity  citric acid  residual sugar  chlorides  \\\n",
       "0            7.4              0.70         0.00             1.9      0.076   \n",
       "1            7.8              0.88         0.00             2.6      0.098   \n",
       "2            7.8              0.76         0.04             2.3      0.092   \n",
       "3           11.2              0.28         0.56             1.9      0.075   \n",
       "4            7.4              0.70         0.00             1.9      0.076   \n",
       "\n",
       "   free sulfur dioxide  total sulfur dioxide  density    pH  sulphates  \\\n",
       "0                 11.0                  34.0   0.9978  3.51       0.56   \n",
       "1                 25.0                  67.0   0.9968  3.20       0.68   \n",
       "2                 15.0                  54.0   0.9970  3.26       0.65   \n",
       "3                 17.0                  60.0   0.9980  3.16       0.58   \n",
       "4                 11.0                  34.0   0.9978  3.51       0.56   \n",
       "\n",
       "   alcohol  quality  \n",
       "0      9.4        5  \n",
       "1      9.8        5  \n",
       "2      9.8        5  \n",
       "3      9.8        6  \n",
       "4      9.4        5  "
      ]
     },
     "execution_count": 14,
     "metadata": {},
     "output_type": "execute_result"
    }
   ],
   "source": [
    "wine_df.head()"
   ]
  },
  {
   "cell_type": "markdown",
   "metadata": {},
   "source": [
    "Separate features and target"
   ]
  },
  {
   "cell_type": "code",
   "execution_count": 15,
   "metadata": {},
   "outputs": [],
   "source": [
    "features = wine_df.drop(columns=['quality'])\n",
    "target = wine_df['quality']"
   ]
  },
  {
   "cell_type": "markdown",
   "metadata": {},
   "source": [
    "Applying Normalization"
   ]
  },
  {
   "cell_type": "code",
   "execution_count": 16,
   "metadata": {},
   "outputs": [],
   "source": [
    "min_max_scaler = MinMaxScaler()\n",
    "features_normalized = min_max_scaler.fit_transform(features)\n",
    "features_normalized_df = pd.DataFrame(features_normalized, columns=features.columns)"
   ]
  },
  {
   "cell_type": "markdown",
   "metadata": {},
   "source": [
    "Applying Standardization"
   ]
  },
  {
   "cell_type": "code",
   "execution_count": 17,
   "metadata": {},
   "outputs": [],
   "source": [
    "standard_scaler = StandardScaler()\n",
    "features_standardized = standard_scaler.fit_transform(features)\n",
    "features_standardized_df = pd.DataFrame(features_standardized, columns=features.columns)"
   ]
  },
  {
   "cell_type": "markdown",
   "metadata": {},
   "source": [
    "Display statistical summaries"
   ]
  },
  {
   "cell_type": "code",
   "execution_count": 25,
   "metadata": {},
   "outputs": [
    {
     "name": "stdout",
     "output_type": "stream",
     "text": [
      "Statistical Summary of Original Features:\n",
      "        fixed acidity  volatile acidity  citric acid  residual sugar  \\\n",
      "count    1599.000000       1599.000000  1599.000000     1599.000000   \n",
      "mean        8.319637          0.527821     0.270976        2.538806   \n",
      "std         1.741096          0.179060     0.194801        1.409928   \n",
      "min         4.600000          0.120000     0.000000        0.900000   \n",
      "25%         7.100000          0.390000     0.090000        1.900000   \n",
      "50%         7.900000          0.520000     0.260000        2.200000   \n",
      "75%         9.200000          0.640000     0.420000        2.600000   \n",
      "max        15.900000          1.580000     1.000000       15.500000   \n",
      "\n",
      "         chlorides  free sulfur dioxide  total sulfur dioxide      density  \\\n",
      "count  1599.000000          1599.000000           1599.000000  1599.000000   \n",
      "mean      0.087467            15.874922             46.467792     0.996747   \n",
      "std       0.047065            10.460157             32.895324     0.001887   \n",
      "min       0.012000             1.000000              6.000000     0.990070   \n",
      "25%       0.070000             7.000000             22.000000     0.995600   \n",
      "50%       0.079000            14.000000             38.000000     0.996750   \n",
      "75%       0.090000            21.000000             62.000000     0.997835   \n",
      "max       0.611000            72.000000            289.000000     1.003690   \n",
      "\n",
      "                pH    sulphates      alcohol  \n",
      "count  1599.000000  1599.000000  1599.000000  \n",
      "mean      3.311113     0.658149    10.422983  \n",
      "std       0.154386     0.169507     1.065668  \n",
      "min       2.740000     0.330000     8.400000  \n",
      "25%       3.210000     0.550000     9.500000  \n",
      "50%       3.310000     0.620000    10.200000  \n",
      "75%       3.400000     0.730000    11.100000  \n",
      "max       4.010000     2.000000    14.900000  \n",
      "\n",
      "Statistical Summary of Normalized Features:\n",
      "        fixed acidity  volatile acidity  citric acid  residual sugar  \\\n",
      "count    1599.000000       1599.000000  1599.000000     1599.000000   \n",
      "mean        0.329171          0.279329     0.270976        0.112247   \n",
      "std         0.154079          0.122644     0.194801        0.096570   \n",
      "min         0.000000          0.000000     0.000000        0.000000   \n",
      "25%         0.221239          0.184932     0.090000        0.068493   \n",
      "50%         0.292035          0.273973     0.260000        0.089041   \n",
      "75%         0.407080          0.356164     0.420000        0.116438   \n",
      "max         1.000000          1.000000     1.000000        1.000000   \n",
      "\n",
      "         chlorides  free sulfur dioxide  total sulfur dioxide      density  \\\n",
      "count  1599.000000          1599.000000           1599.000000  1599.000000   \n",
      "mean      0.125988             0.209506              0.142996     0.490211   \n",
      "std       0.078573             0.147326              0.116238     0.138571   \n",
      "min       0.000000             0.000000              0.000000     0.000000   \n",
      "25%       0.096828             0.084507              0.056537     0.406021   \n",
      "50%       0.111853             0.183099              0.113074     0.490455   \n",
      "75%       0.130217             0.281690              0.197880     0.570117   \n",
      "max       1.000000             1.000000              1.000000     1.000000   \n",
      "\n",
      "                pH    sulphates      alcohol  \n",
      "count  1599.000000  1599.000000  1599.000000  \n",
      "mean      0.449695     0.196496     0.311228  \n",
      "std       0.121564     0.101501     0.163949  \n",
      "min       0.000000     0.000000     0.000000  \n",
      "25%       0.370079     0.131737     0.169231  \n",
      "50%       0.448819     0.173653     0.276923  \n",
      "75%       0.519685     0.239521     0.415385  \n",
      "max       1.000000     1.000000     1.000000  \n",
      "\n",
      "Statistical Summary of Standardized Features:\n",
      "        fixed acidity  volatile acidity   citric acid  residual sugar  \\\n",
      "count   1.599000e+03      1.599000e+03  1.599000e+03    1.599000e+03   \n",
      "mean    3.554936e-16      1.733031e-16 -8.887339e-17   -1.244227e-16   \n",
      "std     1.000313e+00      1.000313e+00  1.000313e+00    1.000313e+00   \n",
      "min    -2.137045e+00     -2.278280e+00 -1.391472e+00   -1.162696e+00   \n",
      "25%    -7.007187e-01     -7.699311e-01 -9.293181e-01   -4.532184e-01   \n",
      "50%    -2.410944e-01     -4.368911e-02 -5.636026e-02   -2.403750e-01   \n",
      "75%     5.057952e-01      6.266881e-01  7.652471e-01    4.341614e-02   \n",
      "max     4.355149e+00      5.877976e+00  3.743574e+00    9.195681e+00   \n",
      "\n",
      "          chlorides  free sulfur dioxide  total sulfur dioxide       density  \\\n",
      "count  1.599000e+03         1.599000e+03          1.599000e+03  1.599000e+03   \n",
      "mean   3.732682e-16        -6.221137e-17          4.443669e-17 -3.473172e-14   \n",
      "std    1.000313e+00         1.000313e+00          1.000313e+00  1.000313e+00   \n",
      "min   -1.603945e+00        -1.422500e+00         -1.230584e+00 -3.538731e+00   \n",
      "25%   -3.712290e-01        -8.487156e-01         -7.440403e-01 -6.077557e-01   \n",
      "50%   -1.799455e-01        -1.793002e-01         -2.574968e-01  1.760083e-03   \n",
      "75%    5.384542e-02         4.901152e-01          4.723184e-01  5.768249e-01   \n",
      "max    1.112703e+01         5.367284e+00          7.375154e+00  3.680055e+00   \n",
      "\n",
      "                 pH     sulphates       alcohol  \n",
      "count  1.599000e+03  1.599000e+03  1.599000e+03  \n",
      "mean   2.861723e-15  6.754377e-16  1.066481e-16  \n",
      "std    1.000313e+00  1.000313e+00  1.000313e+00  \n",
      "min   -3.700401e+00 -1.936507e+00 -1.898919e+00  \n",
      "25%   -6.551405e-01 -6.382196e-01 -8.663789e-01  \n",
      "50%   -7.212705e-03 -2.251281e-01 -2.093081e-01  \n",
      "75%    5.759223e-01  4.240158e-01  6.354971e-01  \n",
      "max    4.528282e+00  7.918677e+00  4.202453e+00  \n"
     ]
    }
   ],
   "source": [
    "print(\"Statistical Summary of Original Features:\\n\", features.describe())\n",
    "print(\"\\nStatistical Summary of Normalized Features:\\n\", features_normalized_df.describe())\n",
    "print(\"\\nStatistical Summary of Standardized Features:\\n\", features_standardized_df.describe())"
   ]
  },
  {
   "cell_type": "markdown",
   "metadata": {},
   "source": [
    "Plotting the distributions"
   ]
  },
  {
   "cell_type": "code",
   "execution_count": 18,
   "metadata": {},
   "outputs": [
    {
     "data": {
      "text/plain": [
       "Text(0.5, 0.98, 'Feature Distributions: Original, Normalized, and Standardized')"
      ]
     },
     "execution_count": 18,
     "metadata": {},
     "output_type": "execute_result"
    },
    {
     "data": {
      "image/png": "[encoded data removed]",
      "text/plain": [
       "<Figure size 2000x1200 with 33 Axes>"
      ]
     },
     "metadata": {},
     "output_type": "display_data"
    }
   ],
   "source": [
    "fig, axs = plt.subplots(3, len(features.columns), figsize=(20, 12))\n",
    "fig.suptitle('Feature Distributions: Original, Normalized, and Standardized', fontsize=16)"
   ]
  },
  {
   "cell_type": "markdown",
   "metadata": {},
   "source": [
    "Original features"
   ]
  },
  {
   "cell_type": "code",
   "execution_count": 19,
   "metadata": {},
   "outputs": [],
   "source": [
    "for i, col in enumerate(features.columns):\n",
    "    axs[0, i].hist(features[col], bins=20, color='blue', alpha=0.7)\n",
    "    axs[0, i].set_title(f'Original {col}')\n",
    "    axs[0, i].set_yticks([])"
   ]
  },
  {
   "cell_type": "markdown",
   "metadata": {},
   "source": [
    "Normalized Features"
   ]
  },
  {
   "cell_type": "code",
   "execution_count": 20,
   "metadata": {},
   "outputs": [],
   "source": [
    "for i, col in enumerate(features.columns):\n",
    "    axs[1, i].hist(features_normalized_df[col], bins=20, color='green', alpha=0.7)\n",
    "    axs[1, i].set_title(f'Normalized {col}')\n",
    "    axs[1, i].set_yticks([])"
   ]
  },
  {
   "cell_type": "markdown",
   "metadata": {},
   "source": [
    "Standardized features"
   ]
  },
  {
   "cell_type": "code",
   "execution_count": 21,
   "metadata": {},
   "outputs": [],
   "source": [
    "for i, col in enumerate(features.columns):\n",
    "    axs[2, i].hist(features_standardized_df[col], bins=20, color='red', alpha=0.7)\n",
    "    axs[2, i].set_title(f'Standardized {col}')\n",
    "    axs[2, i].set_yticks([])"
   ]
  },
  {
   "cell_type": "code",
   "execution_count": 26,
   "metadata": {},
   "outputs": [
    {
     "data": {
      "text/plain": [
       "<Figure size 640x480 with 0 Axes>"
      ]
     },
     "metadata": {},
     "output_type": "display_data"
    }
   ],
   "source": [
    "plt.tight_layout(rect=[0, 0, 1, 0.96])\n",
    "plt.show()"
   ]
  }
 ],
 "metadata": {
  "kernelspec": {
   "display_name": "Python 3",
   "language": "python",
   "name": "python3"
  },
  "language_info": {
   "codemirror_mode": {
    "name": "ipython",
    "version": 3
   },
   "file_extension": ".py",
   "mimetype": "text/x-python",
   "name": "python",
   "nbconvert_exporter": "python",
   "pygments_lexer": "ipython3",
   "version": "3.11.0"
  }
 },
 "nbformat": 4,
 "nbformat_minor": 2
}
